{
  "cells": [
    {
      "metadata": {
        "trusted": true
      },
      "cell_type": "code",
      "source": "import azure\nfrom azure.eventhub import *\nimport os\nfrom azure.eventhub import EventHubClient, EventHubClientAsync, Offset\nimport tweepy\nimport logging",
      "execution_count": null,
      "outputs": []
    },
    {
      "metadata": {},
      "cell_type": "markdown",
      "source": "## Auth Credentials"
    },
    {
      "metadata": {
        "trusted": true
      },
      "cell_type": "code",
      "source": "# Azure event hub creds\nnamespace_name = ''\nevent_hub_name = ''\nsas_key_name = ''\nsas_key = ''",
      "execution_count": null,
      "outputs": []
    },
    {
      "metadata": {
        "trusted": true
      },
      "cell_type": "code",
      "source": "# Twitter App creds\nCONSUMER_KEY = ''\nCONSUMER_SECRET = ''\nACCESS_KEY = ''\nACCESS_SECRET = ''",
      "execution_count": null,
      "outputs": []
    },
    {
      "metadata": {},
      "cell_type": "markdown",
      "source": "## Set up EventHub Client & Event Receiver"
    },
    {
      "metadata": {
        "trusted": true
      },
      "cell_type": "code",
      "source": "ADDRESS = \"\"\n\nclient = EventHubClient(ADDRESS, debug=False, username=sas_key_name, password=sas_key)",
      "execution_count": null,
      "outputs": []
    },
    {
      "metadata": {
        "trusted": true
      },
      "cell_type": "code",
      "source": "receiver = client.add_receiver(consumer_group=\"default\", partition='0')",
      "execution_count": null,
      "outputs": []
    },
    {
      "metadata": {
        "trusted": true
      },
      "cell_type": "code",
      "source": "# Run the Event Hubs client\nclient.run()\n\n## BUG HERE - AUTH ISSUE?\n## 'Authentication Put-Token failed. Retries exhausted.'eventhub.pysdk-55255b1e': All clients failed to start.'",
      "execution_count": null,
      "outputs": []
    }
  ],
  "metadata": {
    "kernelspec": {
      "name": "python36",
      "display_name": "Python 3.6",
      "language": "python"
    },
    "language_info": {
      "mimetype": "text/x-python",
      "nbconvert_exporter": "python",
      "name": "python",
      "pygments_lexer": "ipython3",
      "version": "3.6.6",
      "file_extension": ".py",
      "codemirror_mode": {
        "version": 3,
        "name": "ipython"
      }
    }
  },
  "nbformat": 4,
  "nbformat_minor": 1
}